{
 "cells": [
  {
   "cell_type": "markdown",
   "metadata": {},
   "source": [
    "## context for may 15 session\n",
    "\n",
    "- we find it a little difficult to find datasets when we need them, so we want to build a tool to fix this\n",
    "- we want smart search on dataset descriptions\n",
    "- \"smart\" part of smart search will come from AI\n",
    "- last class we used AI in a very rudimentary way - and it seemed to do what we need it to do. \n",
    "- however the approach we took does not scale (we can't copy paste ALL dataset descriptions into the context window of GPT 4 every time we want it to find us a dataset)\n",
    "\n",
    "### the \"real\" approach\n",
    "\n",
    "- we're going to use embeddings\n",
    "\n",
    "**what are embeddings used for**\n",
    "\n",
    "- calculating similarity between chunks of language\n",
    "- chunks of language are represented as vectors (8,2) (7,3) <- these would be examples of 2 dimensional embeddings\n",
    "- once we have vectors we can calculate distances between them. (look up the formula for the distance between two vectors)\n",
    "- vectors (representing chunks of language) are similar when the distance between them is relatively small, and vice versa\n",
    "\n",
    "e.g.\n",
    "\n",
    "\"i am tired\"  \"i am exhausted\" \"i am energetic\"\n",
    "\n",
    "**what actually are embeddings**\n",
    "\n",
    "- high level: numeric representation of semantic strings (most prevalent example is natural language (e.g. english) but also we can use embeddings to represent DNA, and any other string of symbols that together have meaning).\n",
    "\n",
    "**how we will implement**\n",
    "\n",
    "- we will not figure out what the vectors should on our own\n",
    "- in other words, we will not train an embedding model\n",
    "- we're going to use a pre-trained model that openai offers us (for a fee)\n",
    "\n",
    "- we're going to generate a vector to represent each dataset description\n",
    "- we're going to save them somehow (a few options here)\n",
    "\n",
    "- user (us/me) will write a sentence (could be longer) to describe what kind of dataset they are looking for.\n",
    "- we will vectorize the user input\n",
    "\n",
    "- user vector\n",
    "- dataset vectors\n",
    "\n",
    "- we want to return the most similar dataset. how?\n",
    "\n",
    "- we take the distance between the user vector and each of the dataset vectors and return datasets that are \"close\" to the user vector.\n",
    "\n"
   ]
  },
  {
   "cell_type": "code",
   "execution_count": 2,
   "metadata": {},
   "outputs": [],
   "source": [
    "import pandas as pd\n",
    "import tiktoken\n",
    "import openai\n",
    "from dotenv import load_dotenv,find_dotenv\n",
    "import os\n",
    "\n",
    "_ = load_dotenv(find_dotenv())\n",
    "api_key = os.getenv(\"OPENAI_API_KEY\")\n",
    "\n",
    "openai.api_key = api_key"
   ]
  },
  {
   "cell_type": "code",
   "execution_count": 3,
   "metadata": {},
   "outputs": [],
   "source": [
    "def get_embedding(text, model=\"text-embedding-3-small\"):\n",
    "    text = text.replace(\"\\n\", \" \")\n",
    "    response = openai.Embedding.create(input=[text], model=model)\n",
    "\n",
    "    return response.data[0].embedding\n"
   ]
  },
  {
   "cell_type": "code",
   "execution_count": 4,
   "metadata": {},
   "outputs": [],
   "source": [
    "embedding_model = \"text-embedding-3-small\"\n",
    "embedding_encoding = \"cl100k_base\"\n",
    "max_tokens = 8000"
   ]
  },
  {
   "cell_type": "code",
   "execution_count": 7,
   "metadata": {},
   "outputs": [],
   "source": [
    "df = pd.read_csv('/Users/arad/repos/pp_kaggle_query/csvs/DatasetVersions.csv')\n",
    "df = df.loc[~df['Description'].isna(),:].sample(100)\n",
    "df = df[['DatasetId','Description']]"
   ]
  },
  {
   "cell_type": "code",
   "execution_count": 8,
   "metadata": {},
   "outputs": [
    {
     "name": "stdout",
     "output_type": "stream",
     "text": [
      "<class 'pandas.core.frame.DataFrame'>\n",
      "Index: 100 entries, 31487 to 569519\n",
      "Data columns (total 2 columns):\n",
      " #   Column       Non-Null Count  Dtype \n",
      "---  ------       --------------  ----- \n",
      " 0   DatasetId    100 non-null    int64 \n",
      " 1   Description  100 non-null    object\n",
      "dtypes: int64(1), object(1)\n",
      "memory usage: 2.3+ KB\n"
     ]
    }
   ],
   "source": [
    "df.info()"
   ]
  },
  {
   "cell_type": "code",
   "execution_count": 9,
   "metadata": {},
   "outputs": [],
   "source": [
    "encoding = tiktoken.get_encoding(embedding_encoding)\n",
    "\n",
    "# omit reviews that are too long to embed\n",
    "df[\"n_tokens\"] = df['Description'].apply(lambda x: len(encoding.encode(x)))\n",
    "df = df[df.n_tokens <= max_tokens]"
   ]
  },
  {
   "cell_type": "code",
   "execution_count": 10,
   "metadata": {},
   "outputs": [
    {
     "data": {
      "text/plain": [
       "(100, 3)"
      ]
     },
     "execution_count": 10,
     "metadata": {},
     "output_type": "execute_result"
    }
   ],
   "source": [
    "df.shape"
   ]
  },
  {
   "cell_type": "code",
   "execution_count": 11,
   "metadata": {},
   "outputs": [],
   "source": [
    "df[\"embedding\"] = df['Description'].apply(lambda x: get_embedding(x, model=embedding_model))"
   ]
  },
  {
   "cell_type": "code",
   "execution_count": 23,
   "metadata": {},
   "outputs": [
    {
     "data": {
      "text/html": [
       "<div>\n",
       "<style scoped>\n",
       "    .dataframe tbody tr th:only-of-type {\n",
       "        vertical-align: middle;\n",
       "    }\n",
       "\n",
       "    .dataframe tbody tr th {\n",
       "        vertical-align: top;\n",
       "    }\n",
       "\n",
       "    .dataframe thead th {\n",
       "        text-align: right;\n",
       "    }\n",
       "</style>\n",
       "<table border=\"1\" class=\"dataframe\">\n",
       "  <thead>\n",
       "    <tr style=\"text-align: right;\">\n",
       "      <th></th>\n",
       "      <th>DatasetId</th>\n",
       "      <th>embedding</th>\n",
       "    </tr>\n",
       "  </thead>\n",
       "  <tbody>\n",
       "    <tr>\n",
       "      <th>31487</th>\n",
       "      <td>52311</td>\n",
       "      <td>[-0.012297469191253185, -0.010557146742939949,...</td>\n",
       "    </tr>\n",
       "    <tr>\n",
       "      <th>962354</th>\n",
       "      <td>1829778</td>\n",
       "      <td>[0.02973613701760769, -0.02973613701760769, -0...</td>\n",
       "    </tr>\n",
       "    <tr>\n",
       "      <th>33577</th>\n",
       "      <td>49855</td>\n",
       "      <td>[-0.03898056969046593, -0.009469750337302685, ...</td>\n",
       "    </tr>\n",
       "    <tr>\n",
       "      <th>424235</th>\n",
       "      <td>129230</td>\n",
       "      <td>[-0.04945987090468407, -0.040516383945941925, ...</td>\n",
       "    </tr>\n",
       "    <tr>\n",
       "      <th>733875</th>\n",
       "      <td>2378323</td>\n",
       "      <td>[0.021971071138978004, -0.027708739042282104, ...</td>\n",
       "    </tr>\n",
       "    <tr>\n",
       "      <th>...</th>\n",
       "      <td>...</td>\n",
       "      <td>...</td>\n",
       "    </tr>\n",
       "    <tr>\n",
       "      <th>638122</th>\n",
       "      <td>2417714</td>\n",
       "      <td>[0.028000928461551666, 0.030642526224255562, 0...</td>\n",
       "    </tr>\n",
       "    <tr>\n",
       "      <th>187029</th>\n",
       "      <td>51717</td>\n",
       "      <td>[-0.03432180732488632, -0.010250430554151535, ...</td>\n",
       "    </tr>\n",
       "    <tr>\n",
       "      <th>930747</th>\n",
       "      <td>3538200</td>\n",
       "      <td>[-0.015549716539680958, 0.005104083102196455, ...</td>\n",
       "    </tr>\n",
       "    <tr>\n",
       "      <th>17069</th>\n",
       "      <td>36582</td>\n",
       "      <td>[-0.05017244443297386, -0.02354302443563938, 0...</td>\n",
       "    </tr>\n",
       "    <tr>\n",
       "      <th>569519</th>\n",
       "      <td>689979</td>\n",
       "      <td>[0.010078651830554008, -0.011569201946258545, ...</td>\n",
       "    </tr>\n",
       "  </tbody>\n",
       "</table>\n",
       "<p>100 rows × 2 columns</p>\n",
       "</div>"
      ],
      "text/plain": [
       "        DatasetId                                          embedding\n",
       "31487       52311  [-0.012297469191253185, -0.010557146742939949,...\n",
       "962354    1829778  [0.02973613701760769, -0.02973613701760769, -0...\n",
       "33577       49855  [-0.03898056969046593, -0.009469750337302685, ...\n",
       "424235     129230  [-0.04945987090468407, -0.040516383945941925, ...\n",
       "733875    2378323  [0.021971071138978004, -0.027708739042282104, ...\n",
       "...           ...                                                ...\n",
       "638122    2417714  [0.028000928461551666, 0.030642526224255562, 0...\n",
       "187029      51717  [-0.03432180732488632, -0.010250430554151535, ...\n",
       "930747    3538200  [-0.015549716539680958, 0.005104083102196455, ...\n",
       "17069       36582  [-0.05017244443297386, -0.02354302443563938, 0...\n",
       "569519     689979  [0.010078651830554008, -0.011569201946258545, ...\n",
       "\n",
       "[100 rows x 2 columns]"
      ]
     },
     "execution_count": 23,
     "metadata": {},
     "output_type": "execute_result"
    }
   ],
   "source": [
    "df[['DatasetId','embedding']]"
   ]
  },
  {
   "cell_type": "code",
   "execution_count": 18,
   "metadata": {},
   "outputs": [
    {
     "name": "stdout",
     "output_type": "stream",
     "text": [
      "### Context\n",
      "this dataset contains India's crop production based on land.\n",
      "\n",
      "\n",
      "\n",
      "### Content\n",
      "\n",
      "**State**: {'Jammu and Kashmir':0, 'Jharkhand':1, 'Bihar':2, 'Uttarakhand':3, 'Chhattisgarh':4, 'Punjab':5, 'Arunachal Pradesh':6, 'Odisha':7, 'Kerala':8, 'Himachal Pradesh':9, 'Tamil Nadu':10, 'Andaman and Nicobar Islands':11}\n",
      "\n",
      "**Year**: 1997-2015\n",
      "\n",
      "**Crop**: {'Black pepper': 0,\n",
      " 'Mesta': 1,\n",
      " 'Sannhamp': 2,\n",
      " 'Cauliflower': 3,\n",
      " 'Tomato': 4,\n",
      " 'Citrus Fruit': 5,\n",
      " 'Lentil': 6,\n",
      " 'Dry ginger': 7,\n",
      " 'Drum Stick': 8,\n",
      " 'Bottle Gourd': 9,\n",
      " 'Beet Root': 10,\n",
      " 'Cardamom': 11,\n",
      " 'Onion': 12,\n",
      " 'Yam': 13,\n",
      " 'Samai': 14,\n",
      " 'other oilseeds': 15,\n",
      " 'Bhindi': 16,\n",
      " 'Groundnut': 17,\n",
      " 'Turnip': 18,\n",
      " 'Cowpea(Lobia)': 19,\n",
      " 'Sesamum': 20,\n",
      " 'Pear': 21,\n",
      " 'Ginger': 22,\n",
      " 'Urad': 23,\n",
      " 'Cashewnut Raw': 24,\n",
      " 'Papaya': 25,\n",
      " 'Brinjal': 26,\n",
      " 'Rubber': 27,\n",
      " 'Khesari': 28,\n",
      " 'Soyabean': 29,\n",
      " 'Maize': 30,\n",
      " 'Cabbage': 31,\n",
      " 'Castor seed': 32,\n",
      " 'Tea': 33,\n",
      " 'Other  Rabi pulses': 34,\n",
      " 'Dry chillies': 35,\n",
      " 'Other Cereals & Millets': 36,\n",
      " 'Linseed': 37,\n",
      " 'Jack Fruit': 38,\n",
      " 'Rice': 39,\n",
      " 'Beans & Mutter(Vegetable)': 40,\n",
      " 'Moong(Green Gram)': 41,\n",
      " 'Coconut ': 42,\n",
      " 'Plums': 43,\n",
      " 'Tapioca': 44,\n",
      " 'Cotton(lint)': 45,\n",
      " 'Korra': 46,\n",
      " 'Potato': 47,\n",
      " 'Pulses total': 48,\n",
      " 'Coriander': 49,\n",
      " 'Wheat': 50,\n",
      " 'Ber': 51,\n",
      " 'Sugarcane': 52,\n",
      " 'Pome Granet': 53,\n",
      " 'Coffee': 54,\n",
      " 'Pome Fruit': 55,\n",
      " 'Niger seed': 56,\n",
      " 'Bajra': 57,\n",
      " 'Varagu': 58,\n",
      " 'Moth': 59,\n",
      " 'Redish': 60,\n",
      " 'Jute': 61,\n",
      " 'Water Melon': 62,\n",
      " 'other misc. pulses': 63,\n",
      " 'Arecanut': 64,\n",
      " 'Safflower': 65,\n",
      " 'Jowar': 66,\n",
      " 'Sweet potato': 67,\n",
      " 'Carrot': 68,\n",
      " 'Grapes': 69,\n",
      " 'Guar seed': 70,\n",
      " 'Other Kharif pulses': 71,\n",
      " 'Lab-Lab': 72,\n",
      " 'Cond-spcs other': 73,\n",
      " 'Oilseeds total': 74,\n",
      " 'Pineapple': 75,\n",
      " 'Apple': 76,\n",
      " 'Total foodgrain': 77,\n",
      " 'Arhar/Tur': 78,\n",
      " 'Horse-gram': 79,\n",
      " 'Bitter Gourd': 80,\n",
      " 'Peach': 81,\n",
      " 'Cucumber': 82,\n",
      " 'Ragi': 83,\n",
      " 'Barley': 84,\n",
      " 'Paddy': 85,\n",
      " 'Tobacco': 86,\n",
      " 'Ribed Guard': 87,\n",
      " 'Orange': 88,\n",
      " 'Turmeric': 89,\n",
      " 'Garlic': 90,\n",
      " 'Small millets': 91,\n",
      " 'Snak Guard': 92,\n",
      " 'Litchi': 93,\n",
      " 'Mango': 94,\n",
      " 'Other Vegetables': 95,\n",
      " 'Peas & beans (Pulses)': 96,\n",
      " 'Masoor': 97,\n",
      " 'Blackgram': 98,\n",
      " 'Banana': 99,\n",
      " 'Other Fresh Fruits': 100,\n",
      " 'Gram': 101,\n",
      " 'Cashewnut': 102,\n",
      " 'Sunflower': 103,\n",
      " 'Other Citrus Fruit': 104,\n",
      " 'Rapeseed &Mustard': 105,\n",
      " 'Pump Kin': 106,\n",
      " 'Ash Gourd': 107}\n",
      "\n",
      "**Area**: Hectare\n",
      "\n",
      "**Rain**: mm\n",
      "\n",
      "\n",
      "### Source\n",
      "data is collected from multiple sources: The Indian government, data world, kaggle, etc.\n"
     ]
    }
   ],
   "source": [
    "print(df.iloc[5,:]['Description'])"
   ]
  },
  {
   "cell_type": "code",
   "execution_count": 31,
   "metadata": {},
   "outputs": [
    {
     "data": {
      "text/plain": [
       "list"
      ]
     },
     "execution_count": 31,
     "metadata": {},
     "output_type": "execute_result"
    }
   ],
   "source": [
    "type(df.iloc[6,:]['embedding'])"
   ]
  },
  {
   "cell_type": "code",
   "execution_count": 33,
   "metadata": {},
   "outputs": [],
   "source": [
    "# np.linalg.norm(data)\n",
    "import numpy as np\n",
    "test_vector = np.zeros([1536])\n",
    "dataset_vector = np.array(df.iloc[6,:]['embedding'])\n",
    "np.linalg.norm(dataset_vector - test_vector)\n",
    "\n",
    "# the above was just one distance calculation\n",
    "# when we compare the user query to the datasets, we need to many calculations\n",
    "# for loop\n",
    "# or use the apply method for dataframes\n",
    "\n",
    "df['distance'] = df['embedding'].apply(lambda x: np.linalg.norm(x - test_vector))"
   ]
  },
  {
   "cell_type": "code",
   "execution_count": 39,
   "metadata": {},
   "outputs": [],
   "source": [
    "df['embedding'] = df['embedding'].apply(lambda x: np.array(x))"
   ]
  },
  {
   "cell_type": "code",
   "execution_count": 35,
   "metadata": {},
   "outputs": [
    {
     "data": {
      "text/plain": [
       "<Axes: >"
      ]
     },
     "execution_count": 35,
     "metadata": {},
     "output_type": "execute_result"
    },
    {
     "data": {
      "image/png": "[encoded data removed]",
      "text/plain": [
       "<Figure size 640x480 with 1 Axes>"
      ]
     },
     "metadata": {},
     "output_type": "display_data"
    }
   ],
   "source": [
    "df['distance'].hist()"
   ]
  },
  {
   "cell_type": "code",
   "execution_count": null,
   "metadata": {},
   "outputs": [],
   "source": [
    "df_full = pd.read_csv('/Users/arad/repos/pp_kaggle_query/csvs/DatasetVersions.csv')\n",
    "df_full.info()"
   ]
  },
  {
   "cell_type": "code",
   "execution_count": null,
   "metadata": {},
   "outputs": [],
   "source": [
    "\n",
    "# how to save the embeddings\n",
    "\n",
    "# keep all the embeddings in memory\n",
    "\n",
    "# make it possible for a user to write a description, vectorize the description, and find similar datasets.\n",
    "\n",
    "\n",
    "\"\"\"\n",
    "function\n",
    "input: vector - users vectorized query, a collection of dataset vectors\n",
    "\n",
    "output: distances, datasetid (maybe just top 5 shortest distances)\n",
    "\"\"\"\n",
    "\n",
    "def process_user_query(user_query,dataset_embeddings):\n",
    "\n",
    "    user_embedding = get_embedding(user_query, model=embedding_model)\n",
    "\n",
    "    # take the distance between user_embedding and all dataset embeddings\n",
    "\n",
    "    # dist = numpy.linalg.norm(a-b)\n",
    "\n",
    "    dataset_embeddings['distance'] = df['embedding'].apply(lambda x: np.linalg.norm(x - user_embedding))\n",
    "\n",
    "    dataset_embeddings.sort_values(by='distance', ascending=True, inplace=True)\n",
    "\n",
    "    return df.iloc[0:5,:]['DatasetId'].values\n",
    "\n",
    "\"\"\"\n",
    "function\n",
    "input: distances, datasetid (maybe just top 5 shortest distances)\n",
    "\n",
    "output: dataset name, url, ...\n",
    "\"\"\"\n",
    "\n",
    "def get_dataset_info(top_5_datasets_array,dataset_df):\n",
    "\n",
    "    subset_df = dataset_df.loc[dataset_df['DatasetId'].isin(top_5_datasets_array),[\"Title\",\"Subtitle\",\"Description\"]]\n",
    "\n",
    "    for index, row in subset_df.iterrows():\n",
    "        print(row['Title'])\n",
    "        print(row[\"Subtitle\"])\n",
    "        print(\"*\"*100)\n",
    "        print(\"\\n\")\n",
    "        print(\"Dataset Description:\\n\")\n",
    "        print(row['Description'])\n",
    "    \n",
    "\n",
    "\n",
    "test_query = \"i am really interested in doing an analysis on indian crop yields.\"\n",
    "\n",
    "test_array = process_user_query(test_query,df)\n",
    "\n",
    "get_dataset_info(test_array,df_full)"
   ]
  },
  {
   "cell_type": "code",
   "execution_count": 56,
   "metadata": {},
   "outputs": [
    {
     "data": {
      "text/plain": [
       "0    2013-american-community-survey\n",
       "1     climate-data-from-ocean-ships\n",
       "2                       meta-kaggle\n",
       "3            hillary-clinton-emails\n",
       "4                 college-scorecard\n",
       "Name: Slug, dtype: object"
      ]
     },
     "execution_count": 56,
     "metadata": {},
     "output_type": "execute_result"
    }
   ],
   "source": [
    "# www.kaggle.com/datasets/user/dataset-slug\n",
    "df_full['Slug'].head()"
   ]
  },
  {
   "cell_type": "code",
   "execution_count": null,
   "metadata": {},
   "outputs": [],
   "source": [
    "\"\"\"\n",
    "---> 23 dataset_embeddings['distance'] = df['embedding'].apply(lambda x: np.linalg.norm(x - user_embedding))\n",
    "     25 dataset_embeddings.sort_values(by='distance', ascending=True, inplace=True)\n",
    "     27 return dataset_embeddings.iloc[0:5,'DatasetId']\n",
    "\n",
    "TypeError: unsupported operand type(s) for -: 'list' and 'list'\n",
    "\n",
    "\"\"\"\n",
    "\n",
    "# it's all right here! what did we do wrong?"
   ]
  },
  {
   "cell_type": "code",
   "execution_count": 57,
   "metadata": {},
   "outputs": [
    {
     "data": {
      "text/html": [
       "<div>\n",
       "<style scoped>\n",
       "    .dataframe tbody tr th:only-of-type {\n",
       "        vertical-align: middle;\n",
       "    }\n",
       "\n",
       "    .dataframe tbody tr th {\n",
       "        vertical-align: top;\n",
       "    }\n",
       "\n",
       "    .dataframe thead th {\n",
       "        text-align: right;\n",
       "    }\n",
       "</style>\n",
       "<table border=\"1\" class=\"dataframe\">\n",
       "  <thead>\n",
       "    <tr style=\"text-align: right;\">\n",
       "      <th></th>\n",
       "      <th>Id</th>\n",
       "      <th>UserName</th>\n",
       "      <th>DisplayName</th>\n",
       "      <th>RegisterDate</th>\n",
       "      <th>PerformanceTier</th>\n",
       "    </tr>\n",
       "  </thead>\n",
       "  <tbody>\n",
       "    <tr>\n",
       "      <th>0</th>\n",
       "      <td>1</td>\n",
       "      <td>kaggleteam</td>\n",
       "      <td>Kaggle Team</td>\n",
       "      <td>03/24/2011</td>\n",
       "      <td>5</td>\n",
       "    </tr>\n",
       "    <tr>\n",
       "      <th>1</th>\n",
       "      <td>368</td>\n",
       "      <td>antgoldbloom</td>\n",
       "      <td>Anthony Goldbloom</td>\n",
       "      <td>01/20/2010</td>\n",
       "      <td>2</td>\n",
       "    </tr>\n",
       "    <tr>\n",
       "      <th>2</th>\n",
       "      <td>381</td>\n",
       "      <td>iguyon</td>\n",
       "      <td>Isabelle</td>\n",
       "      <td>01/29/2010</td>\n",
       "      <td>2</td>\n",
       "    </tr>\n",
       "    <tr>\n",
       "      <th>3</th>\n",
       "      <td>383</td>\n",
       "      <td>davidstephan</td>\n",
       "      <td>David Stephan</td>\n",
       "      <td>02/01/2010</td>\n",
       "      <td>0</td>\n",
       "    </tr>\n",
       "    <tr>\n",
       "      <th>4</th>\n",
       "      <td>384</td>\n",
       "      <td>gabewarren</td>\n",
       "      <td>Gabe Warren</td>\n",
       "      <td>02/02/2010</td>\n",
       "      <td>0</td>\n",
       "    </tr>\n",
       "    <tr>\n",
       "      <th>...</th>\n",
       "      <td>...</td>\n",
       "      <td>...</td>\n",
       "      <td>...</td>\n",
       "      <td>...</td>\n",
       "      <td>...</td>\n",
       "    </tr>\n",
       "    <tr>\n",
       "      <th>18246552</th>\n",
       "      <td>20750121</td>\n",
       "      <td>rajukancham</td>\n",
       "      <td>RAJU KANCHAM</td>\n",
       "      <td>05/08/2024</td>\n",
       "      <td>0</td>\n",
       "    </tr>\n",
       "    <tr>\n",
       "      <th>18246553</th>\n",
       "      <td>20750122</td>\n",
       "      <td>elfiradiva</td>\n",
       "      <td>Elfira Diva Yuniarti</td>\n",
       "      <td>05/08/2024</td>\n",
       "      <td>0</td>\n",
       "    </tr>\n",
       "    <tr>\n",
       "      <th>18246554</th>\n",
       "      <td>20750123</td>\n",
       "      <td>cbe110023</td>\n",
       "      <td>CBE110023</td>\n",
       "      <td>05/08/2024</td>\n",
       "      <td>0</td>\n",
       "    </tr>\n",
       "    <tr>\n",
       "      <th>18246555</th>\n",
       "      <td>20750124</td>\n",
       "      <td>alanponce987</td>\n",
       "      <td>Alan Ponce</td>\n",
       "      <td>05/08/2024</td>\n",
       "      <td>0</td>\n",
       "    </tr>\n",
       "    <tr>\n",
       "      <th>18246556</th>\n",
       "      <td>20750126</td>\n",
       "      <td>juniorlab</td>\n",
       "      <td>Junior Lab</td>\n",
       "      <td>05/08/2024</td>\n",
       "      <td>0</td>\n",
       "    </tr>\n",
       "  </tbody>\n",
       "</table>\n",
       "<p>18246557 rows × 5 columns</p>\n",
       "</div>"
      ],
      "text/plain": [
       "                Id      UserName           DisplayName RegisterDate  \\\n",
       "0                1    kaggleteam           Kaggle Team   03/24/2011   \n",
       "1              368  antgoldbloom     Anthony Goldbloom   01/20/2010   \n",
       "2              381        iguyon              Isabelle   01/29/2010   \n",
       "3              383  davidstephan         David Stephan   02/01/2010   \n",
       "4              384    gabewarren           Gabe Warren   02/02/2010   \n",
       "...            ...           ...                   ...          ...   \n",
       "18246552  20750121   rajukancham          RAJU KANCHAM   05/08/2024   \n",
       "18246553  20750122    elfiradiva  Elfira Diva Yuniarti   05/08/2024   \n",
       "18246554  20750123     cbe110023             CBE110023   05/08/2024   \n",
       "18246555  20750124  alanponce987            Alan Ponce   05/08/2024   \n",
       "18246556  20750126     juniorlab            Junior Lab   05/08/2024   \n",
       "\n",
       "          PerformanceTier  \n",
       "0                       5  \n",
       "1                       2  \n",
       "2                       2  \n",
       "3                       0  \n",
       "4                       0  \n",
       "...                   ...  \n",
       "18246552                0  \n",
       "18246553                0  \n",
       "18246554                0  \n",
       "18246555                0  \n",
       "18246556                0  \n",
       "\n",
       "[18246557 rows x 5 columns]"
      ]
     },
     "execution_count": 57,
     "metadata": {},
     "output_type": "execute_result"
    }
   ],
   "source": [
    "pd.read_csv('/Users/arad/repos/pp_kaggle_query/csvs/Users.csv')\n",
    "# looks like we have everything we need to construct dataset urls"
   ]
  },
  {
   "cell_type": "code",
   "execution_count": 2,
   "metadata": {},
   "outputs": [
    {
     "name": "stdout",
     "output_type": "stream",
     "text": [
      "<class 'pandas.core.frame.DataFrame'>\n",
      "RangeIndex: 1104888 entries, 0 to 1104887\n",
      "Data columns (total 14 columns):\n",
      " #   Column                  Non-Null Count    Dtype  \n",
      "---  ------                  --------------    -----  \n",
      " 0   Id                      1104888 non-null  int64  \n",
      " 1   DatasetId               1104888 non-null  int64  \n",
      " 2   DatasourceVersionId     1104888 non-null  int64  \n",
      " 3   CreatorUserId           1104888 non-null  int64  \n",
      " 4   LicenseName             1104888 non-null  object \n",
      " 5   CreationDate            1104888 non-null  object \n",
      " 6   VersionNumber           1030293 non-null  float64\n",
      " 7   Title                   1104887 non-null  object \n",
      " 8   Slug                    1104888 non-null  object \n",
      " 9   Subtitle                588510 non-null   object \n",
      " 10  Description             503725 non-null   object \n",
      " 11  VersionNotes            1040699 non-null  object \n",
      " 12  TotalCompressedBytes    1030331 non-null  float64\n",
      " 13  TotalUncompressedBytes  1030458 non-null  float64\n",
      "dtypes: float64(3), int64(4), object(7)\n",
      "memory usage: 118.0+ MB\n"
     ]
    }
   ],
   "source": [
    "# which dataset descriptions are not worthy of being embedded\n",
    "import pandas as pd\n",
    "df_full = pd.read_csv('/Users/arad/repos/pp_kaggle_query/csvs/DatasetVersions.csv')\n",
    "df_full.info()\n",
    "\n",
    "\n",
    "# how much will cost to embed the worthy ones"
   ]
  },
  {
   "cell_type": "code",
   "execution_count": 3,
   "metadata": {},
   "outputs": [
    {
     "name": "stdout",
     "output_type": "stream",
     "text": [
      "<class 'pandas.core.frame.DataFrame'>\n",
      "Index: 475389 entries, 20 to 1104886\n",
      "Data columns (total 14 columns):\n",
      " #   Column                  Non-Null Count   Dtype  \n",
      "---  ------                  --------------   -----  \n",
      " 0   Id                      475389 non-null  int64  \n",
      " 1   DatasetId               475389 non-null  int64  \n",
      " 2   DatasourceVersionId     475389 non-null  int64  \n",
      " 3   CreatorUserId           475389 non-null  int64  \n",
      " 4   LicenseName             475389 non-null  object \n",
      " 5   CreationDate            475389 non-null  object \n",
      " 6   VersionNumber           475389 non-null  float64\n",
      " 7   Title                   475389 non-null  object \n",
      " 8   Slug                    475389 non-null  object \n",
      " 9   Subtitle                475389 non-null  object \n",
      " 10  Description             475389 non-null  object \n",
      " 11  VersionNotes            475389 non-null  object \n",
      " 12  TotalCompressedBytes    475389 non-null  float64\n",
      " 13  TotalUncompressedBytes  475389 non-null  float64\n",
      "dtypes: float64(3), int64(4), object(7)\n",
      "memory usage: 54.4+ MB\n"
     ]
    }
   ],
   "source": [
    "df_full.dropna(inplace = True)\n",
    "df_full.info()"
   ]
  },
  {
   "cell_type": "code",
   "execution_count": 7,
   "metadata": {},
   "outputs": [
    {
     "data": {
      "text/plain": [
       "61515"
      ]
     },
     "execution_count": 7,
     "metadata": {},
     "output_type": "execute_result"
    }
   ],
   "source": [
    "df_full['DatasetId'].nunique()"
   ]
  },
  {
   "cell_type": "code",
   "execution_count": 6,
   "metadata": {},
   "outputs": [
    {
     "data": {
      "text/plain": [
       "413874"
      ]
     },
     "execution_count": 6,
     "metadata": {},
     "output_type": "execute_result"
    }
   ],
   "source": [
    "df_full.duplicated(subset=['DatasetId']).sum()"
   ]
  },
  {
   "cell_type": "code",
   "execution_count": 8,
   "metadata": {},
   "outputs": [],
   "source": [
    "# deduplicate by datasetid, taking most recent\n",
    "df_full[\"CreationDate\"] = pd.to_datetime(df_full[\"CreationDate\"]) # CreationDate::date\n",
    "df_full.sort_values(by = \"CreationDate\",ascending=False,inplace=True)"
   ]
  },
  {
   "cell_type": "code",
   "execution_count": 10,
   "metadata": {},
   "outputs": [],
   "source": [
    "df_full.drop_duplicates(subset = [\"DatasetId\"],keep='first',inplace=True)"
   ]
  },
  {
   "cell_type": "code",
   "execution_count": 11,
   "metadata": {},
   "outputs": [
    {
     "name": "stdout",
     "output_type": "stream",
     "text": [
      "<class 'pandas.core.frame.DataFrame'>\n",
      "Index: 61515 entries, 1094215 to 189577\n",
      "Data columns (total 14 columns):\n",
      " #   Column                  Non-Null Count  Dtype         \n",
      "---  ------                  --------------  -----         \n",
      " 0   Id                      61515 non-null  int64         \n",
      " 1   DatasetId               61515 non-null  int64         \n",
      " 2   DatasourceVersionId     61515 non-null  int64         \n",
      " 3   CreatorUserId           61515 non-null  int64         \n",
      " 4   LicenseName             61515 non-null  object        \n",
      " 5   CreationDate            61515 non-null  datetime64[ns]\n",
      " 6   VersionNumber           61515 non-null  float64       \n",
      " 7   Title                   61515 non-null  object        \n",
      " 8   Slug                    61515 non-null  object        \n",
      " 9   Subtitle                61515 non-null  object        \n",
      " 10  Description             61515 non-null  object        \n",
      " 11  VersionNotes            61515 non-null  object        \n",
      " 12  TotalCompressedBytes    61515 non-null  float64       \n",
      " 13  TotalUncompressedBytes  61515 non-null  float64       \n",
      "dtypes: datetime64[ns](1), float64(3), int64(4), object(6)\n",
      "memory usage: 7.0+ MB\n"
     ]
    }
   ],
   "source": [
    "df_full.info()"
   ]
  },
  {
   "cell_type": "code",
   "execution_count": 12,
   "metadata": {},
   "outputs": [
    {
     "data": {
      "text/plain": [
       "1077"
      ]
     },
     "execution_count": 12,
     "metadata": {},
     "output_type": "execute_result"
    }
   ],
   "source": [
    "# duplicate descriptions\n",
    "df_full.duplicated(subset=['Description']).sum()"
   ]
  },
  {
   "cell_type": "code",
   "execution_count": 22,
   "metadata": {},
   "outputs": [
    {
     "data": {
      "text/plain": [
       "55951"
      ]
     },
     "execution_count": 22,
     "metadata": {},
     "output_type": "execute_result"
    }
   ],
   "source": [
    "df_full.loc[df_full['TotalUncompressedBytes'] == 0].shape[0]"
   ]
  },
  {
   "cell_type": "code",
   "execution_count": 18,
   "metadata": {},
   "outputs": [
    {
     "data": {
      "text/plain": [
       "5564"
      ]
     },
     "execution_count": 18,
     "metadata": {},
     "output_type": "execute_result"
    }
   ],
   "source": [
    "61515 - df_full.loc[df_full['TotalUncompressedBytes'] == 0].shape[0]"
   ]
  },
  {
   "cell_type": "code",
   "execution_count": 24,
   "metadata": {},
   "outputs": [],
   "source": [
    "\n",
    "# guillemservera/\n",
    "users = pd.read_csv('/Users/arad/repos/pp_kaggle_query/csvs/Users.csv')"
   ]
  },
  {
   "cell_type": "code",
   "execution_count": 25,
   "metadata": {},
   "outputs": [
    {
     "name": "stdout",
     "output_type": "stream",
     "text": [
      "<class 'pandas.core.frame.DataFrame'>\n",
      "RangeIndex: 18246557 entries, 0 to 18246556\n",
      "Data columns (total 5 columns):\n",
      " #   Column           Dtype \n",
      "---  ------           ----- \n",
      " 0   Id               int64 \n",
      " 1   UserName         object\n",
      " 2   DisplayName      object\n",
      " 3   RegisterDate     object\n",
      " 4   PerformanceTier  int64 \n",
      "dtypes: int64(2), object(3)\n",
      "memory usage: 696.1+ MB\n"
     ]
    }
   ],
   "source": [
    "users.info()"
   ]
  },
  {
   "cell_type": "code",
   "execution_count": 26,
   "metadata": {},
   "outputs": [
    {
     "data": {
      "text/html": [
       "<div>\n",
       "<style scoped>\n",
       "    .dataframe tbody tr th:only-of-type {\n",
       "        vertical-align: middle;\n",
       "    }\n",
       "\n",
       "    .dataframe tbody tr th {\n",
       "        vertical-align: top;\n",
       "    }\n",
       "\n",
       "    .dataframe thead th {\n",
       "        text-align: right;\n",
       "    }\n",
       "</style>\n",
       "<table border=\"1\" class=\"dataframe\">\n",
       "  <thead>\n",
       "    <tr style=\"text-align: right;\">\n",
       "      <th></th>\n",
       "      <th>Id</th>\n",
       "      <th>UserName</th>\n",
       "      <th>DisplayName</th>\n",
       "      <th>RegisterDate</th>\n",
       "      <th>PerformanceTier</th>\n",
       "    </tr>\n",
       "  </thead>\n",
       "  <tbody>\n",
       "    <tr>\n",
       "      <th>5566655</th>\n",
       "      <td>6047420</td>\n",
       "      <td>guillemservera</td>\n",
       "      <td>Guillem SD</td>\n",
       "      <td>10/27/2020</td>\n",
       "      <td>2</td>\n",
       "    </tr>\n",
       "  </tbody>\n",
       "</table>\n",
       "</div>"
      ],
      "text/plain": [
       "              Id        UserName DisplayName RegisterDate  PerformanceTier\n",
       "5566655  6047420  guillemservera  Guillem SD   10/27/2020                2"
      ]
     },
     "execution_count": 26,
     "metadata": {},
     "output_type": "execute_result"
    }
   ],
   "source": [
    "users.loc[users['Id'] == 6047420,:]"
   ]
  },
  {
   "cell_type": "code",
   "execution_count": 27,
   "metadata": {},
   "outputs": [],
   "source": [
    "df_full['char_count'] = df_full['Description'].apply(len)"
   ]
  },
  {
   "cell_type": "code",
   "execution_count": 31,
   "metadata": {},
   "outputs": [
    {
     "data": {
      "text/plain": [
       "count    6.151500e+04\n",
       "mean     1.397545e+03\n",
       "std      8.231841e+03\n",
       "min      1.000000e+00\n",
       "25%      3.740000e+02\n",
       "50%      7.740000e+02\n",
       "75%      1.561000e+03\n",
       "max      1.955338e+06\n",
       "Name: char_count, dtype: float64"
      ]
     },
     "execution_count": 31,
     "metadata": {},
     "output_type": "execute_result"
    }
   ],
   "source": [
    "df_full['char_count'].describe()"
   ]
  },
  {
   "cell_type": "code",
   "execution_count": 35,
   "metadata": {},
   "outputs": [],
   "source": [
    "df_full.loc[df_full['char_count'] < 10,:].sort_values(by = 'char_count',ascending=False).to_csv('short_descriptions.csv')"
   ]
  },
  {
   "cell_type": "code",
   "execution_count": null,
   "metadata": {},
   "outputs": [],
   "source": []
  }
 ],
 "metadata": {
  "kernelspec": {
   "display_name": "basic",
   "language": "python",
   "name": "python3"
  },
  "language_info": {
   "codemirror_mode": {
    "name": "ipython",
    "version": 3
   },
   "file_extension": ".py",
   "mimetype": "text/x-python",
   "name": "python",
   "nbconvert_exporter": "python",
   "pygments_lexer": "ipython3",
   "version": "3.11.7"
  },
  "orig_nbformat": 4
 },
 "nbformat": 4,
 "nbformat_minor": 2
}
