{
 "cells": [
  {
   "cell_type": "code",
   "execution_count": 1,
   "metadata": {},
   "outputs": [
    {
     "data": {
      "text/plain": [
       "30000"
      ]
     },
     "execution_count": 1,
     "metadata": {},
     "output_type": "execute_result"
    }
   ],
   "source": [
    "import chromadb\n",
    "\n",
    "client = chromadb.PersistentClient(path=\"/Users/arad/repos/pp_kaggle_query/db\")\n",
    "collection = client.get_collection(name=\"kaggle\")\n",
    "collection.count()"
   ]
  },
  {
   "cell_type": "code",
   "execution_count": 2,
   "metadata": {},
   "outputs": [],
   "source": [
    "import openai\n",
    "import chromadb.utils.embedding_functions as embedding_functions\n",
    "from dotenv import load_dotenv,find_dotenv\n",
    "import os\n",
    "\n",
    "_ = load_dotenv(find_dotenv())\n",
    "api_key = os.getenv(\"OPENAI_API_KEY\")\n",
    "\n",
    "openai.api_key = api_key\n",
    "\n",
    "# from oai via chroma\n",
    "openai_ef = embedding_functions.OpenAIEmbeddingFunction(\n",
    "                api_key=api_key,\n",
    "                model_name=\"text-embedding-3-small\"\n",
    "            )"
   ]
  },
  {
   "cell_type": "code",
   "execution_count": 4,
   "metadata": {},
   "outputs": [],
   "source": [
    "# create user query collection\n",
    "user_query_collection = client.get_or_create_collection(name=\"user\",\n",
    "    embedding_function=openai_ef, metadata={\"hnsw:space\": \"cosine\"})"
   ]
  },
  {
   "cell_type": "code",
   "execution_count": 6,
   "metadata": {},
   "outputs": [
    {
     "data": {
      "text/plain": [
       "3139007895"
      ]
     },
     "execution_count": 6,
     "metadata": {},
     "output_type": "execute_result"
    }
   ],
   "source": []
  },
  {
   "cell_type": "code",
   "execution_count": 5,
   "metadata": {},
   "outputs": [
    {
     "name": "stdout",
     "output_type": "stream",
     "text": [
      "b3107436-5925-425a-9195-3e335513c7c1\n",
      "1427359681\n"
     ]
    }
   ],
   "source": [
    "import uuid\n",
    "\n",
    "# generate a random uuid\n",
    "random_uuid = uuid.uuid4().int & (1<<32)-1\n",
    "\n",
    "# convert the uuid to a 32-bit integer\n",
    "random_id = random_uuid.int & (1<<32)-1\n",
    "print(random_uuid)\n",
    "print(random_id)"
   ]
  },
  {
   "cell_type": "code",
   "execution_count": 9,
   "metadata": {},
   "outputs": [
    {
     "data": {
      "text/plain": [
       "int"
      ]
     },
     "execution_count": 9,
     "metadata": {},
     "output_type": "execute_result"
    }
   ],
   "source": [
    "type(random_id)"
   ]
  },
  {
   "cell_type": "code",
   "execution_count": 14,
   "metadata": {},
   "outputs": [],
   "source": [
    "collection.get(ids=['3607951', '3625760', '3636497', '3639234'],include=['embeddings','metadatas'])\n",
    "\n",
    "# we need to make another \"collection\" for user queries\n",
    "# when a user writes a query\n",
    "## we add it to the user query collection (this will automatically embed it)\n",
    "## we get the user query embedding out of that collection\n",
    "## and pass it to the query function on the dataset description collection.\n",
    "\n",
    "\n",
    "request = \"I am looking for data on Indian crop yields\"\n",
    "\n",
    "\n",
    "\n",
    "def answer_users_request(request):\n",
    "    query_id = uuid.uuid4().int & (1<<32)-1\n",
    "    user_query_collection.add(ids=[str(query_id)], documents=[request])\n",
    "    query_embedding = user_query_collection.get(ids=[str(query_id)],include=[\"embeddings\"])['embeddings']\n",
    "    \n",
    "    query_response = \\\n",
    "    collection.query(\n",
    "    query_embeddings=query_embedding,\n",
    "    n_results=5\n",
    "    # ,\n",
    "    # where={\"TotalDownloads\": \"is_equal_to_this\"},\n",
    "    # where_document={\"$contains\":\"search_string\"}\n",
    "    )\n",
    "\n",
    "    return query_response\n",
    "\n"
   ]
  },
  {
   "cell_type": "code",
   "execution_count": 15,
   "metadata": {},
   "outputs": [
    {
     "name": "stdout",
     "output_type": "stream",
     "text": [
      "{'ids': [['4137128', '2082587', '2968687', '3137299', '3860469']], 'distances': [[0.34708380699157715, 0.35823768377304077, 0.36579829454421997, 0.3728839159011841, 0.39281564950942993]], 'metadatas': [[{'Title': 'Telecom dataset', 'TotalDownloads': 60, 'TotalUncompressedBytes': 0.0, 'TotalVotes': 4}, {'Subtitle': 'Really Big Telecommunication dataset', 'Title': 'Telecom IOT, Customer and Revenue Dataset', 'TotalDownloads': 1077, 'TotalUncompressedBytes': 0.0, 'TotalVotes': 16}, {'Subtitle': 'Telecom Company Service Performance Analysis', 'Title': 'Telecom Company Churn Rate, Call Center Data', 'TotalDownloads': 3043, 'TotalUncompressedBytes': 0.0, 'TotalVotes': 44}, {'Title': 'Telecom Campaign Managment', 'TotalDownloads': 29, 'TotalUncompressedBytes': 0.0, 'TotalVotes': 0}, {'Title': 'Telecom Customer Dataset', 'TotalDownloads': 17, 'TotalUncompressedBytes': 0.0, 'TotalVotes': 0}]], 'embeddings': None, 'documents': [[\"Title: Telecom dataset Subtitle: nan Description: ![](https://www.googleapis.com/download/storage/v1/b/kaggle-user-content/o/inbox%2F13604388%2F8867104038012845297c3e3942fb2541%2F2023-12-09%20%2019.05.58.png?generation=1702137984040522&alt=media)\\n\\n**The dataset is a part of a real telecommunications company's data with statistics on calls by different age groups of users, on the use of messages and Internet traffic.**\\n\\nThis dataset is perfect for solving regression problems. Tags: ['classification:', 'mobile and wireless:', 'regression:']\", \"Title: Telecom IOT, Customer and Revenue Dataset Subtitle: Really Big Telecommunication dataset Description: The dataset is about IOT information based on the Devices used by the customers and the revenue generated by them in USD.\\n\\n```\\n**CRM ATTRIBUTE DESCRIPTION**\\t\\t\\t\\nmsisdn  : Unique identification number assigned to each mobile number\\ngender  : sex of the customer using the mobile service\\nyear_of_birth  : year of birth of the customer\\nsystem_status  : indicates the status of the mobile service being used by the customer\\nmobile_type  : Customers can choose their service as prepaid or postpaid\\nvalue_segment  : Segmentation based on how well the customer matches the business goals\\n\\n**IOT DEVICES ATTRIBUTE DESCRIPTION**\\nmsisdn: Unique identification number assigned to each mobile number\\nimei_tac: Unique identification number assigned to the location of the mobile service\\nbrand_name: The brand of the mobile\\nmodel_name: The model of the mobile\\nos_name: The Operating System of the mobile\\nos_vendor: The company of the mobile operating system\\n\\n**REVENUE ATTRIBUTE DESCRIPTION**\\nmsisdn  : Unique identification number assigned to each mobile number\\nweek_number : Week number for the particular year\\nRevenue_usd : Revenue generated in that week in US dollars\\n``` Tags: ['internet:An interconnected network of tubes that connects the entire world together. This tag covers a broad range of tags; anything from cryptocurrency to website analytics.', 'united states:The top datasets and kernels in this tag are about mass shootings, AirBnB, homelessness, and witchcraft. That about sums it up.', 'beginner:New to data science? Explore tips, tricks, and beginner friendly work from other Kagglers.', 'intermediate:', 'advanced:']\", \"Title: Telecom Company Churn Rate, Call Center Data Subtitle: Telecom Company Service Performance Analysis Description: This is a multi-feature dataset for customer records associated with a European Telecom Company Dataset\\n\\nKey Features include:\\n\\n1. Customer ID\\n2. Gender\\n3. Partner\\n4. Dependents\\n5.Tenure\\n6. Phone Service\\n7. Multiple Line\\n8. Internet\\n.....\\n\\nTotal 23 features\\n\\n\\nYou can expect to perform customer segmentation analysis, bundle sale analysis, and figure out which service is underperforming or identify new addressable market.\\n\\nAlso, these 2 datasets are suitable for data visualization tasks in Power BI or Tableau.\\n\\nGood Luck! Tags: ['business:Businesses are organizational entities that drive economic activity. Explore the inner workings of things like HR practices, product sales, and customer happiness in these competitions, kernels, and datasets.', 'marketing:Marketing is the activity of connecting consumers to products and services. Find datasets, kernels, and competitions related to marketing in this tag.', 'classification:', 'data visualization:The art of depicting data in a visual format. Using charts and graphs, it is easier to observe patterns, relationships, and outliers.', 'exploratory data analysis:']\", 'Title: Telecom Campaign Managment Subtitle: nan Description: The given datasets are related to a telecom company that offers various plans and bonuses to its customers. \\n\\nThe first dataset, \"Plan Details,\" contains information about different plans offered by the company, including their unique IDs, names, prices, details, and validity periods. \\nThe second dataset, \"Customer Details,\" contains information about customers who have activated plans offered by the company, including their unique customer IDs, the plan IDs they have activated, and the date and time when they activated the plan. \\nThe third dataset, \"Bonus Details,\" provides information on the various types of bonuses that the company offers to its customers, including their unique IDs, names, types, and validity periods. Finally, the fourth dataset is a user-exclude list that contains the unique IDs of customers who have opted out of receiving offer messages. Tags: [\\'business:Businesses are organizational entities that drive economic activity. Explore the inner workings of things like HR practices, product sales, and customer happiness in these competitions, kernels, and datasets.\\']', \"Title: Telecom Customer Dataset Subtitle: nan Description: This dataset contains detailed information about customer Average Revenue Per User (ARPU) generated over a span of three months, specifically January, February, and March. This dataset has been meticulously curated to serve as a valuable resource for generating insightful data visualizations that can be effortlessly scaled to accommodate larger datasets, facilitating robust business insights and informed decision-making. Each record in the dataset represents an individual customer's ARPU values for the aforementioned three months, allowing for a comprehensive analysis of revenue trends and patterns. By visualizing this data, we aim to uncover meaningful insights, such as seasonal variations, customer segments with varying ARPU, and potential growth opportunities. This dataset's purpose is to empower businesses with the tools they need to optimize their revenue strategies and enhance customer engagement by leveraging data-driven insights. Tags: nan\"]], 'uris': None, 'data': None}\n"
     ]
    }
   ],
   "source": [
    "telecoms_request = \"\"\" \n",
    "\n",
    "telecommunications usage. The dataset should include the usage date, provider ID, user ID, call duration, data usage, SMS count, service type (voice, data, SMS), location data, user demographics, and billing information. The dataset must be clean, with no missing values, consistent identifiers, accurate usage details, and provided in CSV format with clearly labeled columns and standardized date formats. Accompanying metadata describing data sources, preprocessing steps, and field definitions is required. An estimated delivery timeline and a mechanism for accessing updates, such as an API or regular data dumps, would be appreciated. The data will be used for usage pattern analysis and telecom service optimization, making accuracy and completeness critical.\n",
    "\n",
    "\"\"\"\n",
    "test_query = answer_users_request(telecoms_request)\n",
    "print(test_query)"
   ]
  },
  {
   "cell_type": "code",
   "execution_count": 18,
   "metadata": {},
   "outputs": [
    {
     "name": "stdout",
     "output_type": "stream",
     "text": [
      "[{'Title': 'Telecom dataset', 'TotalDownloads': 60, 'TotalUncompressedBytes': 0.0, 'TotalVotes': 4}, {'Subtitle': 'Really Big Telecommunication dataset', 'Title': 'Telecom IOT, Customer and Revenue Dataset', 'TotalDownloads': 1077, 'TotalUncompressedBytes': 0.0, 'TotalVotes': 16}, {'Subtitle': 'Telecom Company Service Performance Analysis', 'Title': 'Telecom Company Churn Rate, Call Center Data', 'TotalDownloads': 3043, 'TotalUncompressedBytes': 0.0, 'TotalVotes': 44}, {'Title': 'Telecom Campaign Managment', 'TotalDownloads': 29, 'TotalUncompressedBytes': 0.0, 'TotalVotes': 0}, {'Title': 'Telecom Customer Dataset', 'TotalDownloads': 17, 'TotalUncompressedBytes': 0.0, 'TotalVotes': 0}]\n"
     ]
    }
   ],
   "source": [
    "for metadata in test_query['metadatas']:\n",
    "    print(metadata[])\n"
   ]
  },
  {
   "cell_type": "code",
   "execution_count": null,
   "metadata": {},
   "outputs": [],
   "source": []
  }
 ],
 "metadata": {
  "kernelspec": {
   "display_name": "basic",
   "language": "python",
   "name": "python3"
  },
  "language_info": {
   "codemirror_mode": {
    "name": "ipython",
    "version": 3
   },
   "file_extension": ".py",
   "mimetype": "text/x-python",
   "name": "python",
   "nbconvert_exporter": "python",
   "pygments_lexer": "ipython3",
   "version": "3.11.7"
  },
  "orig_nbformat": 4
 },
 "nbformat": 4,
 "nbformat_minor": 2
}
