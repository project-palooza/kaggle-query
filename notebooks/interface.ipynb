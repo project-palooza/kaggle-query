{
 "cells": [
  {
   "cell_type": "code",
   "execution_count": 1,
   "metadata": {},
   "outputs": [
    {
     "data": {
      "text/plain": [
       "30000"
      ]
     },
     "execution_count": 1,
     "metadata": {},
     "output_type": "execute_result"
    }
   ],
   "source": [
    "import chromadb\n",
    "\n",
    "client = chromadb.PersistentClient(path=\"/Users/arad/repos/pp_kaggle_query/db\")\n",
    "collection = client.get_collection(name=\"kaggle\")\n",
    "collection.count()"
   ]
  },
  {
   "cell_type": "code",
   "execution_count": 2,
   "metadata": {},
   "outputs": [],
   "source": [
    "import openai\n",
    "import chromadb.utils.embedding_functions as embedding_functions\n",
    "from dotenv import load_dotenv,find_dotenv\n",
    "import os\n",
    "\n",
    "_ = load_dotenv(find_dotenv())\n",
    "api_key = os.getenv(\"OPENAI_API_KEY\")\n",
    "\n",
    "openai.api_key = api_key\n",
    "\n",
    "# from oai via chroma\n",
    "openai_ef = embedding_functions.OpenAIEmbeddingFunction(\n",
    "                api_key=api_key,\n",
    "                model_name=\"text-embedding-3-small\"\n",
    "            )"
   ]
  },
  {
   "cell_type": "code",
   "execution_count": 4,
   "metadata": {},
   "outputs": [],
   "source": [
    "# create user query collection\n",
    "user_query_collection = client.get_or_create_collection(name=\"user\",\n",
    "    embedding_function=openai_ef, metadata={\"hnsw:space\": \"cosine\"})"
   ]
  },
  {
   "cell_type": "code",
   "execution_count": 6,
   "metadata": {},
   "outputs": [
    {
     "data": {
      "text/plain": [
       "3139007895"
      ]
     },
     "execution_count": 6,
     "metadata": {},
     "output_type": "execute_result"
    }
   ],
   "source": []
  },
  {
   "cell_type": "code",
   "execution_count": 5,
   "metadata": {},
   "outputs": [
    {
     "name": "stdout",
     "output_type": "stream",
     "text": [
      "b3107436-5925-425a-9195-3e335513c7c1\n",
      "1427359681\n"
     ]
    }
   ],
   "source": [
    "import uuid\n",
    "\n",
    "# generate a random uuid\n",
    "random_uuid = uuid.uuid4().int & (1<<32)-1\n",
    "\n",
    "# convert the uuid to a 32-bit integer\n",
    "random_id = random_uuid.int & (1<<32)-1\n",
    "print(random_uuid)\n",
    "print(random_id)"
   ]
  },
  {
   "cell_type": "code",
   "execution_count": 9,
   "metadata": {},
   "outputs": [
    {
     "data": {
      "text/plain": [
       "int"
      ]
     },
     "execution_count": 9,
     "metadata": {},
     "output_type": "execute_result"
    }
   ],
   "source": [
    "type(random_id)"
   ]
  },
  {
   "cell_type": "code",
   "execution_count": 14,
   "metadata": {},
   "outputs": [],
   "source": [
    "collection.get(ids=['3607951', '3625760', '3636497', '3639234'],include=['embeddings','metadatas'])\n",
    "\n",
    "# we need to make another \"collection\" for user queries\n",
    "# when a user writes a query\n",
    "## we add it to the user query collection (this will automatically embed it)\n",
    "## we get the user query embedding out of that collection\n",
    "## and pass it to the query function on the dataset description collection.\n",
    "\n",
    "\n",
    "request = \"I am looking for data on Indian crop yields\"\n",
    "\n",
    "\n",
    "\n",
    "def answer_users_request(request):\n",
    "    query_id = uuid.uuid4().int & (1<<32)-1\n",
    "    user_query_collection.add(ids=[str(query_id)], documents=[request])\n",
    "    query_embedding = user_query_collection.get(ids=[str(query_id)],include=[\"embeddings\"])['embeddings']\n",
    "    \n",
    "    query_response = \\\n",
    "    collection.query(\n",
    "    query_embeddings=query_embedding,\n",
    "    n_results=5\n",
    "    # ,\n",
    "    # where={\"TotalDownloads\": \"is_equal_to_this\"},\n",
    "    # where_document={\"$contains\":\"search_string\"}\n",
    "    )\n",
    "\n",
    "    return query_response\n",
    "\n"
   ]
  },
  {
   "cell_type": "code",
   "execution_count": null,
   "metadata": {},
   "outputs": [],
   "source": [
    "telecoms_request = \"\"\" \n",
    "\n",
    "telecommunications usage. The dataset should include the usage date, provider ID, user ID, call duration, data usage, SMS count, service type (voice, data, SMS), location data, user demographics, and billing information. The dataset must be clean, with no missing values, consistent identifiers, accurate usage details, and provided in CSV format with clearly labeled columns and standardized date formats. Accompanying metadata describing data sources, preprocessing steps, and field definitions is required. An estimated delivery timeline and a mechanism for accessing updates, such as an API or regular data dumps, would be appreciated. The data will be used for usage pattern analysis and telecom service optimization, making accuracy and completeness critical.\n",
    "\n",
    "\"\"\"\n",
    "test_query = answer_users_request(telecoms_request)\n",
    "print(test_query)"
   ]
  },
  {
   "cell_type": "code",
   "execution_count": null,
   "metadata": {},
   "outputs": [],
   "source": [
    "for metadata in test_query['metadatas']:\n",
    "    pass\n"
   ]
  },
  {
   "cell_type": "code",
   "execution_count": null,
   "metadata": {},
   "outputs": [],
   "source": []
  }
 ],
 "metadata": {
  "kernelspec": {
   "display_name": "basic",
   "language": "python",
   "name": "python3"
  },
  "language_info": {
   "codemirror_mode": {
    "name": "ipython",
    "version": 3
   },
   "file_extension": ".py",
   "mimetype": "text/x-python",
   "name": "python",
   "nbconvert_exporter": "python",
   "pygments_lexer": "ipython3",
   "version": "3.11.7"
  },
  "orig_nbformat": 4
 },
 "nbformat": 4,
 "nbformat_minor": 2
}
